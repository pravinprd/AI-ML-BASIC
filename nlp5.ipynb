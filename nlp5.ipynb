{
 "cells": [
  {
   "cell_type": "code",
   "execution_count": 18,
   "metadata": {},
   "outputs": [
    {
     "name": "stdout",
     "output_type": "stream",
     "text": [
      "['neg_words=[', 'hate', ',', 'hatred', ',', 'annoyed', ',', 'annoy', ',', 'annoyingly', ',', 'nasty', ']\\n']\n",
      "['pos_words=[', 'nice', ',', 'excellent', ',', 'good', ',', 'wonderful', ',', 'best', ',', 'better', ',', 'awesome', ',', 'beautiful', ',', 'beauty', ',', 'beautifully', ',', 'supreme', ']\\n']\n",
      "Rose is beautiful.\n",
      ":POSITIVE\n",
      "Place is nasty to stay.\n",
      ":NEGATIVE\n",
      "This is the beauty of this technique.\n",
      ":POSITIVE\n",
      "Concept is explained beautifully in this book.\n",
      ":POSITIVE\n",
      "He annoyed me.\n",
      ":NEGATIVE\n",
      "Its the supreme place to stay.\n",
      ":POSITIVE\n",
      "I hate this place.\n",
      ":NEGATIVE\n",
      "Dont annoy the customer.\n",
      ":NEGATIVE\n",
      "He has given nasty comments about his stay.\n",
      ":NEGATIVE\n",
      "Dessert is awesome.\n",
      ":POSITIVE\n",
      "Your gift is wonderful.:POSITIVE\n"
     ]
    }
   ],
   "source": [
    "senti_dict = {}\n",
    "file=open('dict.txt','r')\n",
    "negword=file.readline().split(\"\\\"\")\n",
    "posword=file.readline().split(\"\\\"\")\n",
    "file.close()\n",
    "print(negword)\n",
    "print(posword)\n",
    "score=0\n",
    "for line in open('sentianalyze.txt'): \n",
    "   score=0\n",
    "   words = line.lower().split()\n",
    "   for word in words:\n",
    "        if(word in posword):\n",
    "            score+=1\n",
    "        if(word in negword):\n",
    "            score-=1\n",
    "   if(score>=0):\n",
    "        print(\"{0}:POSITIVE\".format(line))\n",
    "   else:\n",
    "        print(\"{0}:NEGATIVE\".format(line))\n"
   ]
  },
  {
   "cell_type": "code",
   "execution_count": null,
   "metadata": {},
   "outputs": [],
   "source": []
  },
  {
   "cell_type": "code",
   "execution_count": null,
   "metadata": {},
   "outputs": [],
   "source": []
  }
 ],
 "metadata": {
  "kernelspec": {
   "display_name": "Python 3",
   "language": "python",
   "name": "python3"
  },
  "language_info": {
   "codemirror_mode": {
    "name": "ipython",
    "version": 3
   },
   "file_extension": ".py",
   "mimetype": "text/x-python",
   "name": "python",
   "nbconvert_exporter": "python",
   "pygments_lexer": "ipython3",
   "version": "3.6.5"
  }
 },
 "nbformat": 4,
 "nbformat_minor": 2
}
