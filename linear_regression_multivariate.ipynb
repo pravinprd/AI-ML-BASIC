{
 "cells": [
  {
   "cell_type": "code",
   "execution_count": 76,
   "metadata": {},
   "outputs": [
    {
     "name": "stdout",
     "output_type": "stream",
     "text": [
      "Starting gradient descent at c = 0,m=0 and error=613.8712562814071\n",
      "After 50000 iterations m=1.1912394734662153, c=4.96923203200961 and error = 50.17219441725183\n",
      "Line Equation:y=1.1912394734662153x+4.96923203200961\n"
     ]
    },
    {
     "data": {
      "text/plain": [
       "[<matplotlib.lines.Line2D at 0x27e2c3aaf98>]"
      ]
     },
     "execution_count": 76,
     "metadata": {},
     "output_type": "execute_result"
    },
    {
     "data": {
      "image/png": "[encoded data removed]",
      "text/plain": [
       "<Figure size 432x288 with 1 Axes>"
      ]
     },
     "metadata": {},
     "output_type": "display_data"
    }
   ],
   "source": [
    "import pandas as pd\n",
    "import numpy as np\n",
    "import matplotlib.pyplot as plt\n",
    "%matplotlib inline\n",
    "car_mpg = pd.read_csv('carData.csv',sep=',',index_col=None)\n",
    "car_mpg.head()\n",
    "model = pd.DataFrame(car_mpg, columns=['MPG','Acceleration'])\n",
    "model.head()\n",
    "\n",
    "def compute_error(c,m,points):\n",
    "    totalerr=0\n",
    "    for i in range(0,len(points)):\n",
    "        x = points[i,2]\n",
    "        y = points[i,1]\n",
    "        totalerr += (y-(m * x + c))**2\n",
    "    return totalerr/float(len(points)) \n",
    "\n",
    "def step_gradient(c_curr,m_curr,points,learning_rate):\n",
    "    c_grd = 0\n",
    "    m_grd = 0\n",
    "    n = float(len(points))\n",
    "    for i in range(0,len(points)):\n",
    "        x = points[i,2]\n",
    "        y = points[i,1]\n",
    "        m_grd += -(2/n) * (y - (m_curr * x + c_curr)) * x\n",
    "        c_grd += -(2/n) * (y - (m_curr * x + c_curr)) * 1\n",
    "    new_m = m_curr - (learning_rate * m_grd)\n",
    "    new_c = c_curr - (learning_rate * c_grd)\n",
    "    return(new_c,new_m)\n",
    "\n",
    "def gradient_runner(points, m_initial, c_initial, learning_rate,iterations):\n",
    "    m = m_initial\n",
    "    c = c_initial\n",
    "    for i in range(iterations):\n",
    "        c,m = step_gradient(c,m,points,learning_rate)\n",
    "    return(c,m)    \n",
    "\n",
    "m_initial = 0\n",
    "c_initial = 0\n",
    "iterations = 50000\n",
    "learning_rate = 0.003\n",
    "points=model\n",
    "points\n",
    "points=points.reset_index().values\n",
    "points\n",
    "print(\"Starting gradient descent at c = {0},m={1} and error={2}\".format(c_initial,m_initial,compute_error(c_initial,m_initial,points)))\n",
    "[c,m] = gradient_runner(points, m_initial, c_initial, learning_rate,iterations)\n",
    "print(\"After {0} iterations m={1}, c={2} and error = {3}\".format(iterations,m,c,compute_error(c,m,points)))\n",
    "for i in range(0,len(points)):\n",
    "    x = points[i,2]\n",
    "    y = points[i,1]\n",
    "    plt.scatter(x,y,color='red')\n",
    "print(\"Line Equation:y={0}x+{1}\".format(m,c))   \n",
    "plt.plot(model.Acceleration, m * model.Acceleration + c, color = 'blue',linewidth=3)"
   ]
  },
  {
   "cell_type": "code",
   "execution_count": null,
   "metadata": {},
   "outputs": [],
   "source": []
  }
 ],
 "metadata": {
  "kernelspec": {
   "display_name": "Python 3",
   "language": "python",
   "name": "python3"
  },
  "language_info": {
   "codemirror_mode": {
    "name": "ipython",
    "version": 3
   },
   "file_extension": ".py",
   "mimetype": "text/x-python",
   "name": "python",
   "nbconvert_exporter": "python",
   "pygments_lexer": "ipython3",
   "version": "3.6.5"
  }
 },
 "nbformat": 4,
 "nbformat_minor": 2
}
